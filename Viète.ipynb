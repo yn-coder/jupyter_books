{
 "cells": [
  {
   "cell_type": "markdown",
   "metadata": {},
   "source": [
    "Viète PI\n",
    "\n",
    "https://en.wikipedia.org/wiki/Vi%C3%A8te%27s_formula    "
   ]
  },
  {
   "cell_type": "code",
   "execution_count": 27,
   "metadata": {},
   "outputs": [
    {
     "name": "stdout",
     "output_type": "stream",
     "text": [
      "0   0.9238795325112867   0.6532814824381883   3.0614674589207183\n",
      "1   0.9807852804032304   0.6407288619353766   3.121445152258052\n",
      "2   0.9951847266721969   0.6376435773361455   3.136548490545939\n",
      "3   0.9987954562051724   0.6368755077217536   3.1403311569547525\n",
      "4   0.9996988186962042   0.6366836927259824   3.141277250932773\n",
      "5   0.9999247018391445   0.6366357516148734   3.141513801144301\n",
      "6   0.9999811752826011   0.6366237671267633   3.1415729403670913\n",
      "7   0.9999952938095762   0.6366207710540869   3.141587725277159\n",
      "8   0.9999988234517019   0.6366200220390021   3.1415914215111997\n",
      "9   0.9999997058628822   0.6366198347854237   3.1415923455701176\n",
      "10   0.9999999264657179   0.6366197879720412   3.141592576584872\n"
     ]
    },
    {
     "data": {
      "image/png": "[encoded data removed]",
      "text/plain": [
       "<Figure size 432x288 with 1 Axes>"
      ]
     },
     "metadata": {},
     "output_type": "display_data"
    }
   ],
   "source": [
    "%matplotlib inline\n",
    "\n",
    "import matplotlib\n",
    "\n",
    "import matplotlib.pyplot as plt\n",
    "\n",
    "from math import sqrt\n",
    "\n",
    "ss=sqrt(1/2)\n",
    "product=ss\n",
    "\n",
    "x = [ss]\n",
    "y = [product]\n",
    "\n",
    "for i in range(11):\n",
    "    ss=sqrt(1/2 + 1/2*ss)\n",
    "    x = x + [ss]\n",
    "    product=product*ss\n",
    "    y = y + [2/product]\n",
    "    print(i, \" \",ss, \" \", product, \" \", 2/product )\n",
    "    \n",
    "line = plt.plot(x,y,'--',linewidth = 1)"
   ]
  },
  {
   "cell_type": "code",
   "execution_count": null,
   "metadata": {},
   "outputs": [],
   "source": []
  }
 ],
 "metadata": {
  "kernelspec": {
   "display_name": "Python 3",
   "language": "python",
   "name": "python3"
  },
  "language_info": {
   "codemirror_mode": {
    "name": "ipython",
    "version": 3
   },
   "file_extension": ".py",
   "mimetype": "text/x-python",
   "name": "python",
   "nbconvert_exporter": "python",
   "pygments_lexer": "ipython3",
   "version": "3.6.0"
  }
 },
 "nbformat": 4,
 "nbformat_minor": 2
}
